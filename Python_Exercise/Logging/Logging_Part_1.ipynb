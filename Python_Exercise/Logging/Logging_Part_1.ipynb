{
 "cells": [
  {
   "cell_type": "markdown",
   "metadata": {},
   "source": [
    "* Logger in Python\n",
    "* Helps to keep track of what is happening in your program.\n",
    "* Diary in code\n",
    "* Write down events, errors and other information during program execution\n",
    "* Debugging and understanding how your code is running."
   ]
  },
  {
   "cell_type": "markdown",
   "metadata": {},
   "source": [
    "# Step 1: Create a Logger"
   ]
  },
  {
   "cell_type": "code",
   "execution_count": 2,
   "metadata": {},
   "outputs": [],
   "source": [
    "import logging"
   ]
  },
  {
   "cell_type": "code",
   "execution_count": 4,
   "metadata": {},
   "outputs": [],
   "source": [
    "logger = logging.getLogger(\n",
    "    \"My_Program_Logs\"\n",
    ")"
   ]
  },
  {
   "cell_type": "markdown",
   "metadata": {},
   "source": [
    "# Step 2: Set Logging Level\n",
    "Levels define the information you want to log.\n",
    "* DEBUG --> lowest level. Messages are typically used for detailed and often verbose debugging information. They are useful when you need to track the flow of your programa and inspect variables or intermediate results.\n",
    "* INFO --> messages are used to provide info about the program execution. These messages might include high-level progress updates or important events.\n",
    "* WARNING --> messages indicate potential issues that are not critical but should be brigugt to your attention. For eample, warning can be used to highlight deprecated functions or unsual conditions.\n",
    "* ERROR --> messages represents errors that can be recovered fro,. These messages indiciated problems that need immendiate attentions but wont necessarily crash the program.\n",
    "* CRITICAL --> Highest Level. Messages indicated sever errors that will cause the program to terminate or become unrelaible. These messages are used for crtical failures that requires immediate action.\n",
    "\n",
    "# Step 3: Write Log Entries"
   ]
  },
  {
   "cell_type": "code",
   "execution_count": 12,
   "metadata": {},
   "outputs": [
    {
     "name": "stderr",
     "output_type": "stream",
     "text": [
      "This is a warning message\n",
      "This is Error Message\n",
      "This is Critical message\n"
     ]
    }
   ],
   "source": [
    "logger.debug(\"This is a debug message\")\n",
    "logger.info(\"This is am Info message\")\n",
    "logger.warning(\"This is a warning message\")\n",
    "logger.error(\"This is Error Message\")\n",
    "logger.critical(\"This is Critical message\")"
   ]
  },
  {
   "cell_type": "markdown",
   "metadata": {},
   "source": [
    "# Step 4"
   ]
  },
  {
   "cell_type": "code",
   "execution_count": 13,
   "metadata": {},
   "outputs": [],
   "source": [
    "logging.basicConfig(\n",
    "    filename=\"my_logs.log\",\n",
    "    level=logging.DEBUG,\n",
    "    format=\"%(asctime)s -%(name)s -%(levelname)s - %(message)s\"\n",
    ")"
   ]
  },
  {
   "cell_type": "code",
   "execution_count": 14,
   "metadata": {},
   "outputs": [],
   "source": [
    "logger.debug(\"This is a debug message\")\n",
    "logger.info(\"This is am Info message\")\n",
    "logger.warning(\"This is a warning message\")\n",
    "logger.error(\"This is Error Message\")\n",
    "logger.critical(\"This is Critical message\")"
   ]
  },
  {
   "cell_type": "code",
   "execution_count": 15,
   "metadata": {},
   "outputs": [],
   "source": [
    "# Logging Exception Information\n",
    "try: \n",
    "    result = 10/0\n",
    "except ZeroDivisionError:\n",
    "    logger.exception(\"Exception occured while dividing by zero.\")\n",
    "    "
   ]
  },
  {
   "cell_type": "code",
   "execution_count": 16,
   "metadata": {},
   "outputs": [],
   "source": [
    "name = \"Mayank\"\n",
    "age = 16\n",
    "logger.info(\"User %s is %d years old.\", name, age)"
   ]
  },
  {
   "cell_type": "markdown",
   "metadata": {},
   "source": [
    "* Log Handler are used to manage the flow of log data from python program to various destinations.\n",
    "* Log level filtering\n",
    "* Python provides several built-in log handlers\n",
    "* StreamHandler --> sends log messages to the Console (Standard output)\n",
    "* FileHandler --> Writes log messages to a file.\n",
    "* SocketHandler --> sends log messages to a remote server.\n",
    "* SysLogHandler --> Sends log messages to the system log (unix based system)\n",
    "* MemoryHandler --> Buffer log messaged in memory before sending it to atarget handler.\n",
    "* SMTPHandler --> sends log messages via email."
   ]
  },
  {
   "cell_type": "code",
   "execution_count": 17,
   "metadata": {},
   "outputs": [],
   "source": [
    "# Create File Handler\n",
    "file_handler = logging.FileHandler(\"MyFileHandler_Logs.log\")\n",
    "file_handler.setLevel(logging.INFO)\n",
    "\n",
    "# Create a Console Handler\n",
    "console_handler = logging.StreamHandler()\n",
    "console_handler.setLevel(logging.INFO)\n",
    "\n",
    "# Add Handlers to the Logger\n",
    "logger.addHandler(file_handler)\n",
    "logger.addHandler(console_handler)"
   ]
  },
  {
   "cell_type": "code",
   "execution_count": 24,
   "metadata": {},
   "outputs": [],
   "source": [
    "# Log when reading File\n",
    "import logging\n",
    "\n",
    "logging.basicConfig(\n",
    "    filename=\"file_operation.log\",\n",
    "    level=logging.DEBUG,\n",
    "    format=\"%(asctime)s -%(name)s -%(levelname)s - %(message)s\"\n",
    ")\n",
    "\n",
    "# Create a logger\n",
    "logger = logging.getLogger(\"file_example\")\n",
    "\n",
    "file_name = \"File_Not_Exists.txt\"\n",
    "# file_name = \"mySampleFile.txt\"\n",
    "\n",
    "try:\n",
    "    with open(file_name, 'r') as file:\n",
    "        data = file.read()\n",
    "    logger.info(\"File Read Successfully.\")\n",
    "except FileNotFoundError as e:\n",
    "    logger.error(\"File Not Found %s\", e)\n",
    "\n",
    "except Exception as e:\n",
    "    logger.error(\"An unexpected error occured. %s\", e)"
   ]
  },
  {
   "cell_type": "code",
   "execution_count": null,
   "metadata": {},
   "outputs": [],
   "source": []
  }
 ],
 "metadata": {
  "kernelspec": {
   "display_name": "Python 3",
   "language": "python",
   "name": "python3"
  },
  "language_info": {
   "codemirror_mode": {
    "name": "ipython",
    "version": 3
   },
   "file_extension": ".py",
   "mimetype": "text/x-python",
   "name": "python",
   "nbconvert_exporter": "python",
   "pygments_lexer": "ipython3",
   "version": "3.9.6"
  }
 },
 "nbformat": 4,
 "nbformat_minor": 2
}
